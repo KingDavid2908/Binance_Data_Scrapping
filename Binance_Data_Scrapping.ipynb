{
 "cells": [
  {
   "cell_type": "markdown",
   "id": "dd46b486-4882-41b1-9ca6-a4cb59a4997f",
   "metadata": {},
   "source": [
    "# Scraping Data from Binance Website + Pandas"
   ]
  },
  {
   "cell_type": "markdown",
   "id": "5ec2edbc-0197-40fd-96d8-a56d9599216e",
   "metadata": {},
   "source": [
    "First Import the necessary modules"
   ]
  },
  {
   "cell_type": "code",
   "execution_count": 1,
   "id": "bb8f31c4-7852-4138-92c2-2b47f42416de",
   "metadata": {},
   "outputs": [],
   "source": [
    "from bs4 import BeautifulSoup\n",
    "import requests\n",
    "import pandas as pd"
   ]
  },
  {
   "cell_type": "markdown",
   "id": "4ca6dc9f-f5ae-43ff-9966-7c69013b3491",
   "metadata": {},
   "source": [
    "Get the URL of the first two pages which is the top hundred coins based on market cap"
   ]
  },
  {
   "cell_type": "code",
   "execution_count": 3,
   "id": "381ead16-4096-4bbd-aeb5-201ff542b57a",
   "metadata": {},
   "outputs": [],
   "source": [
    "first_url = 'https://crypto.com/price?page=1'\n",
    "second_url = 'https://crypto.com/price?page=2'\n",
    "\n",
    "page_one = requests.get(first_url)\n",
    "page_two = requests.get(second_url)\n",
    "\n",
    "soup_one = BeautifulSoup(page_one.text, 'html.parser')\n",
    "soup_two = BeautifulSoup(page_two.text, 'html.parser')"
   ]
  },
  {
   "cell_type": "markdown",
   "id": "930c79b6-7ca4-40a5-9cb0-a5c312cba34e",
   "metadata": {},
   "source": [
    "Understand your variables and the data scrapped"
   ]
  },
  {
   "cell_type": "code",
   "execution_count": 5,
   "id": "564b18bc-6ce4-46c5-b274-7aeb484e154b",
   "metadata": {},
   "outputs": [],
   "source": [
    "#print(soup_one)"
   ]
  },
  {
   "cell_type": "code",
   "execution_count": 80,
   "id": "73de6bed-a501-4320-bf9b-5d795b1170f5",
   "metadata": {},
   "outputs": [],
   "source": [
    "#print(soup_two)"
   ]
  },
  {
   "cell_type": "code",
   "execution_count": 94,
   "id": "2406b714-85a7-47c5-94c9-af692a3f72b1",
   "metadata": {},
   "outputs": [],
   "source": [
    "#soup_one.find_all('table')"
   ]
  },
  {
   "cell_type": "code",
   "execution_count": 84,
   "id": "90c8dcd5-b49a-4d7a-9667-3f9bcdd2431a",
   "metadata": {},
   "outputs": [],
   "source": [
    "#soup_two.find_all('table')"
   ]
  },
  {
   "cell_type": "code",
   "execution_count": 7,
   "id": "ac045905-e566-4b04-a261-1640b56da3ff",
   "metadata": {},
   "outputs": [],
   "source": [
    "headers = []"
   ]
  },
  {
   "cell_type": "code",
   "execution_count": 9,
   "id": "47a2d043-8b42-46d2-82d9-80d1bb85ee43",
   "metadata": {},
   "outputs": [],
   "source": [
    "column_data_one = soup_one.find_all('tr')\n",
    "column_data_two = soup_two.find_all('tr')"
   ]
  },
  {
   "cell_type": "markdown",
   "id": "c15303a7-50f7-4efe-8192-6d53042caac0",
   "metadata": {},
   "source": [
    "Get the headers and remove the chart"
   ]
  },
  {
   "cell_type": "code",
   "execution_count": 11,
   "id": "910ba098-edb1-4f4d-8be1-f7eebe053e32",
   "metadata": {},
   "outputs": [
    {
     "name": "stdout",
     "output_type": "stream",
     "text": [
      "['#', 'Name', 'Price', '24H CHANGE', '24H VOLUME', 'Market Cap']\n"
     ]
    }
   ],
   "source": [
    "for row in column_data_one:\n",
    "    row_data = row.find_all('th')\n",
    "    individual_row_data = [data.text.strip() for data in row_data]\n",
    "    individual_row_data = [data for data in individual_row_data if data != '']\n",
    "    if individual_row_data != []:\n",
    "        headers = individual_row_data\n",
    "\n",
    "headers = headers[: (len(headers) -1)]\n",
    "\n",
    "print(headers)"
   ]
  },
  {
   "cell_type": "markdown",
   "id": "ee9154f8-7f55-486f-9cff-b1e19c4aba88",
   "metadata": {},
   "source": [
    "Put the data in a Pandas' DataFrame"
   ]
  },
  {
   "cell_type": "code",
   "execution_count": 13,
   "id": "99212eaa-04d0-40c4-8c36-58db68404600",
   "metadata": {},
   "outputs": [
    {
     "data": {
      "text/html": [
       "<div>\n",
       "<style scoped>\n",
       "    .dataframe tbody tr th:only-of-type {\n",
       "        vertical-align: middle;\n",
       "    }\n",
       "\n",
       "    .dataframe tbody tr th {\n",
       "        vertical-align: top;\n",
       "    }\n",
       "\n",
       "    .dataframe thead th {\n",
       "        text-align: right;\n",
       "    }\n",
       "</style>\n",
       "<table border=\"1\" class=\"dataframe\">\n",
       "  <thead>\n",
       "    <tr style=\"text-align: right;\">\n",
       "      <th></th>\n",
       "      <th>#</th>\n",
       "      <th>Name</th>\n",
       "      <th>Price</th>\n",
       "      <th>24H CHANGE</th>\n",
       "      <th>24H VOLUME</th>\n",
       "      <th>Market Cap</th>\n",
       "    </tr>\n",
       "  </thead>\n",
       "  <tbody>\n",
       "  </tbody>\n",
       "</table>\n",
       "</div>"
      ],
      "text/plain": [
       "Empty DataFrame\n",
       "Columns: [#, Name, Price, 24H CHANGE, 24H VOLUME, Market Cap]\n",
       "Index: []"
      ]
     },
     "execution_count": 13,
     "metadata": {},
     "output_type": "execute_result"
    }
   ],
   "source": [
    "df = pd.DataFrame(columns = headers)\n",
    "df"
   ]
  },
  {
   "cell_type": "markdown",
   "id": "a6ea953b-d29f-4172-8542-7a61fcdec88e",
   "metadata": {},
   "source": [
    "Get the body of the data and append it into the panda dataframe"
   ]
  },
  {
   "cell_type": "code",
   "execution_count": 28,
   "id": "37d94be5-83ff-49a9-83bf-2366e6fe376c",
   "metadata": {},
   "outputs": [],
   "source": [
    "for row in column_data_one:\n",
    "    row_data = row.find_all('td')\n",
    "    individual_row_data = [data.text.strip() for data in row_data]\n",
    "    individual_row_data = [data for data in individual_row_data if data != '']\n",
    "\n",
    "    if individual_row_data != []:\n",
    "        length = len(df)\n",
    "        df.loc[length] = individual_row_data\n",
    "\n",
    "for row in column_data_two:\n",
    "    row_data = row.find_all('td')\n",
    "    individual_row_data = [data.text.strip() for data in row_data]\n",
    "    individual_row_data = [data for data in individual_row_data if data != '']\n",
    "\n",
    "    if individual_row_data != []:\n",
    "        length = len(df)\n",
    "        df.loc[length] = individual_row_data\n",
    "    "
   ]
  },
  {
   "cell_type": "markdown",
   "id": "e35c20ff-cef8-4156-bee4-82fe23d05a3e",
   "metadata": {},
   "source": [
    "Observe your DataFrame"
   ]
  },
  {
   "cell_type": "code",
   "execution_count": 30,
   "id": "98c51400-65a0-437a-a424-67d51da0e02f",
   "metadata": {
    "scrolled": true
   },
   "outputs": [
    {
     "data": {
      "text/html": [
       "<div>\n",
       "<style scoped>\n",
       "    .dataframe tbody tr th:only-of-type {\n",
       "        vertical-align: middle;\n",
       "    }\n",
       "\n",
       "    .dataframe tbody tr th {\n",
       "        vertical-align: top;\n",
       "    }\n",
       "\n",
       "    .dataframe thead th {\n",
       "        text-align: right;\n",
       "    }\n",
       "</style>\n",
       "<table border=\"1\" class=\"dataframe\">\n",
       "  <thead>\n",
       "    <tr style=\"text-align: right;\">\n",
       "      <th></th>\n",
       "      <th>#</th>\n",
       "      <th>Name</th>\n",
       "      <th>Price</th>\n",
       "      <th>24H CHANGE</th>\n",
       "      <th>24H VOLUME</th>\n",
       "      <th>Market Cap</th>\n",
       "    </tr>\n",
       "  </thead>\n",
       "  <tbody>\n",
       "    <tr>\n",
       "      <th>0</th>\n",
       "      <td>1</td>\n",
       "      <td>BBitcoinBTC</td>\n",
       "      <td>$91,089.45$91,089.45+0.26%</td>\n",
       "      <td>+0.26%</td>\n",
       "      <td>$49.3 B</td>\n",
       "      <td>$1,802.1 B</td>\n",
       "    </tr>\n",
       "    <tr>\n",
       "      <th>1</th>\n",
       "      <td>2</td>\n",
       "      <td>EEthereumETH</td>\n",
       "      <td>$3,086.83$3,086.83-0.96%</td>\n",
       "      <td>-0.96%</td>\n",
       "      <td>$25.1 B</td>\n",
       "      <td>$371.73 B</td>\n",
       "    </tr>\n",
       "    <tr>\n",
       "      <th>2</th>\n",
       "      <td>3</td>\n",
       "      <td>TTetherUSDT</td>\n",
       "      <td>$0.9993$0.9993-0.26%</td>\n",
       "      <td>-0.26%</td>\n",
       "      <td>$124.12 B</td>\n",
       "      <td>$127.46 B</td>\n",
       "    </tr>\n",
       "    <tr>\n",
       "      <th>3</th>\n",
       "      <td>4</td>\n",
       "      <td>SSolanaSOL</td>\n",
       "      <td>$245.55$245.55+3.24%</td>\n",
       "      <td>+3.24%</td>\n",
       "      <td>$8.01 B</td>\n",
       "      <td>$116.54 B</td>\n",
       "    </tr>\n",
       "    <tr>\n",
       "      <th>4</th>\n",
       "      <td>5</td>\n",
       "      <td>BBNBBNB</td>\n",
       "      <td>$618.04$618.04-1.96%</td>\n",
       "      <td>-1.96%</td>\n",
       "      <td>$2.11 B</td>\n",
       "      <td>$88.12 B</td>\n",
       "    </tr>\n",
       "    <tr>\n",
       "      <th>...</th>\n",
       "      <td>...</td>\n",
       "      <td>...</td>\n",
       "      <td>...</td>\n",
       "      <td>...</td>\n",
       "      <td>...</td>\n",
       "      <td>...</td>\n",
       "    </tr>\n",
       "    <tr>\n",
       "      <th>95</th>\n",
       "      <td>96</td>\n",
       "      <td>NNeoNEO</td>\n",
       "      <td>$12.50$12.50+1.07%</td>\n",
       "      <td>+1.07%</td>\n",
       "      <td>$32.61 M</td>\n",
       "      <td>$881.79 M</td>\n",
       "    </tr>\n",
       "    <tr>\n",
       "      <th>96</th>\n",
       "      <td>97</td>\n",
       "      <td>AAxie InfinityAXS</td>\n",
       "      <td>$5.70$5.70+0.80%</td>\n",
       "      <td>+0.80%</td>\n",
       "      <td>$104.45 M</td>\n",
       "      <td>$875.25 M</td>\n",
       "    </tr>\n",
       "    <tr>\n",
       "      <th>97</th>\n",
       "      <td>98</td>\n",
       "      <td>TThe SandboxSAND</td>\n",
       "      <td>$0.3574$0.3574+1.28%</td>\n",
       "      <td>+1.28%</td>\n",
       "      <td>$192.92 M</td>\n",
       "      <td>$855.58 M</td>\n",
       "    </tr>\n",
       "    <tr>\n",
       "      <th>98</th>\n",
       "      <td>99</td>\n",
       "      <td>PPendlePENDLE</td>\n",
       "      <td>$5.21$5.21-3.13%</td>\n",
       "      <td>-3.13%</td>\n",
       "      <td>$67.57 M</td>\n",
       "      <td>$853.17 M</td>\n",
       "    </tr>\n",
       "    <tr>\n",
       "      <th>99</th>\n",
       "      <td>100</td>\n",
       "      <td>DdYdXDYDX</td>\n",
       "      <td>$1.31$1.31+2.38%</td>\n",
       "      <td>+2.38%</td>\n",
       "      <td>$55.25 M</td>\n",
       "      <td>$844.66 M</td>\n",
       "    </tr>\n",
       "  </tbody>\n",
       "</table>\n",
       "<p>100 rows × 6 columns</p>\n",
       "</div>"
      ],
      "text/plain": [
       "      #               Name                       Price 24H CHANGE 24H VOLUME  \\\n",
       "0     1        BBitcoinBTC  $91,089.45$91,089.45+0.26%     +0.26%    $49.3 B   \n",
       "1     2       EEthereumETH    $3,086.83$3,086.83-0.96%     -0.96%    $25.1 B   \n",
       "2     3        TTetherUSDT        $0.9993$0.9993-0.26%     -0.26%  $124.12 B   \n",
       "3     4         SSolanaSOL        $245.55$245.55+3.24%     +3.24%    $8.01 B   \n",
       "4     5            BBNBBNB        $618.04$618.04-1.96%     -1.96%    $2.11 B   \n",
       "..  ...                ...                         ...        ...        ...   \n",
       "95   96            NNeoNEO          $12.50$12.50+1.07%     +1.07%   $32.61 M   \n",
       "96   97  AAxie InfinityAXS            $5.70$5.70+0.80%     +0.80%  $104.45 M   \n",
       "97   98   TThe SandboxSAND        $0.3574$0.3574+1.28%     +1.28%  $192.92 M   \n",
       "98   99      PPendlePENDLE            $5.21$5.21-3.13%     -3.13%   $67.57 M   \n",
       "99  100          DdYdXDYDX            $1.31$1.31+2.38%     +2.38%   $55.25 M   \n",
       "\n",
       "    Market Cap  \n",
       "0   $1,802.1 B  \n",
       "1    $371.73 B  \n",
       "2    $127.46 B  \n",
       "3    $116.54 B  \n",
       "4     $88.12 B  \n",
       "..         ...  \n",
       "95   $881.79 M  \n",
       "96   $875.25 M  \n",
       "97   $855.58 M  \n",
       "98   $853.17 M  \n",
       "99   $844.66 M  \n",
       "\n",
       "[100 rows x 6 columns]"
      ]
     },
     "execution_count": 30,
     "metadata": {},
     "output_type": "execute_result"
    }
   ],
   "source": [
    "df"
   ]
  },
  {
   "cell_type": "markdown",
   "id": "c5670193-7e4b-42b9-ab68-d775dec587b8",
   "metadata": {},
   "source": [
    "Export to a csv"
   ]
  },
  {
   "cell_type": "code",
   "execution_count": 32,
   "id": "1fbbe5c8-3034-476e-b94a-6bc63e32e33e",
   "metadata": {},
   "outputs": [],
   "source": [
    "path = r'C:\\Users\\HP\\OneDrive\\Documents\\DataAnalysis\\WebScraping\\Binance.csv' # choose your file path\n",
    "df.to_csv(path)"
   ]
  },
  {
   "cell_type": "code",
   "execution_count": null,
   "id": "ad3363d2-d096-4846-9d49-a6e30c671173",
   "metadata": {},
   "outputs": [],
   "source": []
  }
 ],
 "metadata": {
  "kernelspec": {
   "display_name": "Python 3 (ipykernel)",
   "language": "python",
   "name": "python3"
  },
  "language_info": {
   "codemirror_mode": {
    "name": "ipython",
    "version": 3
   },
   "file_extension": ".py",
   "mimetype": "text/x-python",
   "name": "python",
   "nbconvert_exporter": "python",
   "pygments_lexer": "ipython3",
   "version": "3.12.7"
  }
 },
 "nbformat": 4,
 "nbformat_minor": 5
}
